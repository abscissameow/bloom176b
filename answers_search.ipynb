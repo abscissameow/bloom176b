{
  "cells": [
    {
      "cell_type": "code",
      "execution_count": null,
      "metadata": {
        "id": "QIyen4J0f8e1"
      },
      "outputs": [],
      "source": [
        "!pip install -U sentence-transformers"
      ]
    },
    {
      "cell_type": "code",
      "execution_count": 83,
      "metadata": {
        "id": "XZfMuj7Uc1Sq"
      },
      "outputs": [],
      "source": [
        "from sentence_transformers import SentenceTransformer\n",
        "import matplotlib.pyplot as plt\n",
        "from collections import defaultdict\n",
        "import numpy as np\n",
        "import urllib.request\n",
        "from tqdm import tqdm\n",
        "import statistics\n",
        "import requests\n",
        "import json\n",
        "import re\n",
        "import os\n",
        "import random\n",
        "import time\n",
        "random.seed(2)\n"
      ]
    },
    {
      "cell_type": "code",
      "execution_count": 7,
      "metadata": {
        "id": "7LH8dpQUgOZk"
      },
      "outputs": [],
      "source": [
        "url_GSM8K = 'https://raw.githubusercontent.com/openai/grade-school-math/master/grade_school_math/data/train.jsonl'\n",
        "\n",
        "# выгружаем размеченные данные из GSM8K\n",
        "data_GSM8K = urllib.request.urlopen(url_GSM8K).read().decode(\"utf-8\").splitlines()"
      ]
    },
    {
      "cell_type": "code",
      "execution_count": 16,
      "metadata": {
        "id": "ZEsMMRwjtmVF"
      },
      "outputs": [],
      "source": [
        "# подготавливаем список правильных решений-ответов ANSWERS\n",
        "NUMBER_OF_TEST_PROBLEMS = 100\n",
        "ANSWERS = []\n",
        "for i,problem in enumerate(data_GSM8K):\n",
        "  thoughts = json.loads(data_GSM8K[i])[\"answer\"]\n",
        "  ANSWERS.append([thoughts[thoughts.find('#### ') + len('#### '):], thoughts])"
      ]
    },
    {
      "cell_type": "code",
      "execution_count": 29,
      "metadata": {
        "id": "6RwJEx8MNChr"
      },
      "outputs": [],
      "source": [
        "# ищем в сгененированном решении ответ: попробуем найти выражение вида \"answer * .\"\n",
        "# если такое вырежние не нашлось, принимаем за ответ число за последним знаком \"=\"\n",
        "# иначе просто возьмём последнее сгенерированное число\n",
        "\n",
        "def Answer_search(string):\n",
        "    pattern  = r\"answer[^.]*\\s+([0-9]+)[^.]*\\.\"\n",
        "    match_re = re.search(pattern, string)\n",
        "    if match_re:\n",
        "      return int(match_re.group(1))\n",
        "\n",
        "    pattern  = r\"=(\\s*\\d+)\\b\"\n",
        "    match_re = re.findall(pattern, string)\n",
        "    if match_re:\n",
        "      return int(match_re[-1])\n",
        "\n",
        "    pattern  = r'\\d+'\n",
        "    match_re = re.findall(pattern, string)\n",
        "    if match_re:\n",
        "      return int(match_re[-1])\n",
        "\n",
        "    return None\n",
        "    \n"
      ]
    },
    {
      "cell_type": "markdown",
      "metadata": {
        "id": "VXGz4cvFmw7S"
      },
      "source": [
        "#Первый способ генерации (фиксированные примеры в prompts)"
      ]
    },
    {
      "cell_type": "code",
      "execution_count": 156,
      "metadata": {
        "id": "yzCiCsuun9nn"
      },
      "outputs": [],
      "source": [
        "# из текстовых файлов достаём рассуждения и ответы\n",
        "with open(f'/content/greedy.txt', 'r') as f:\n",
        "  GREEDY_THOUGHTS = f.read().replace('\\n', '').split(\"#\")[:-1]\n",
        "  \n",
        "GREEDY_ANSWERS = [Answer_search(thought) for thought in GREEDY_THOUGHTS]\n",
        "\n",
        "\n",
        "GENERATED_THOUGHTS = []\n",
        "for i in range(NUMBER_OF_TEST_PROBLEMS):\n",
        "  with open(f'/content/{i}_ensemble.txt', 'r') as f:\n",
        "    lines = f.read().replace('\\n', '')\n",
        "    lines = lines.split(\"#\")[:-1]\n",
        "    for i in range(len(lines)):\n",
        "      if \"question:\" in lines[i]:\n",
        "        index    = lines[i].index(\"question:\")\n",
        "        lines[i] = lines[i][:index]\n",
        "\n",
        "    GENERATED_THOUGHTS.append(lines)\n",
        "\n",
        "\n",
        "GENERATED_ANSWERS = []\n",
        "for thoughs in GENERATED_THOUGHTS:\n",
        "  GENERATED_ANSWERS.append([Answer_search(thought) for thought in thoughts]) \n"
      ]
    },
    {
      "cell_type": "code",
      "execution_count": 232,
      "metadata": {
        "id": "LKcY7u-4csZE"
      },
      "outputs": [],
      "source": [
        "# проверка совпадения с настоящими ответами\n",
        "def matching(answers):\n",
        "  return sum([1 for i in range(NUMBER_OF_TEST_PROBLEMS) if answers[i] == int(ANSWERS[i][0])])"
      ]
    },
    {
      "cell_type": "code",
      "execution_count": 234,
      "metadata": {
        "colab": {
          "base_uri": "https://localhost:8080/"
        },
        "id": "lbCOrtEhNvts",
        "outputId": "831e54a3-4e26-455b-f448-967df18b7807"
      },
      "outputs": [
        {
          "data": {
            "text/plain": [
              "5"
            ]
          },
          "execution_count": 234,
          "metadata": {},
          "output_type": "execute_result"
        }
      ],
      "source": [
        "# проверим, сколько раз greedy даёт правильный ответ\n",
        "matching(GREEDY_ANSWERS)"
      ]
    },
    {
      "cell_type": "markdown",
      "metadata": {
        "id": "ITkVIQszpOce"
      },
      "source": [
        "Для ансамблированного CoT попробуем выбрать ответ как моду сгенерированных ответов:"
      ]
    },
    {
      "cell_type": "code",
      "execution_count": 235,
      "metadata": {
        "id": "RgPcZj2EsSAr"
      },
      "outputs": [],
      "source": [
        "# создадим словарь самых часто встречающихся ответов и их индексов\n",
        "def Most_popular_answer(lst):\n",
        "    if len(lst) == 1:\n",
        "        return {lst[0]: [0]}\n",
        "\n",
        "    count_dict = defaultdict(list)\n",
        "    for i, x in enumerate(lst):\n",
        "        count_dict[x].append(i)\n",
        "\n",
        "    max_count = max(len(indices) for indices in count_dict.values())\n",
        "\n",
        "    result_dict = {}\n",
        "    for x, indices in count_dict.items():\n",
        "        if len(indices) == max_count:\n",
        "            result_dict[x] = indices\n",
        "\n",
        "    return result_dict"
      ]
    },
    {
      "cell_type": "code",
      "execution_count": 239,
      "metadata": {
        "id": "t0ZmcJUdfm_R"
      },
      "outputs": [],
      "source": [
        "# загружаем модель Sentence-BERT \n",
        "sen_to_vec = SentenceTransformer('paraphrase-MiniLM-L6-v2')"
      ]
    },
    {
      "cell_type": "code",
      "execution_count": 246,
      "metadata": {
        "id": "XRxw4kDk-m_J"
      },
      "outputs": [],
      "source": [
        "# для каждого решения из ансамблированного CoT найдём вектор и вычислим вектор средних \n",
        "# арифметических по каждой задаче\n",
        "def mean_vector(generated_thoughts):\n",
        "  mean_embeddings = []\n",
        "  for thoughts in tqdm(generated_thoughts):\n",
        "    mean_vector_ensemble = np.mean([sen_to_vec.encode(thought) for thought in thoughts], axis=0)\n",
        "    mean_embeddings.append(mean_vector_ensemble)\n",
        "  return mean_embeddings"
      ]
    },
    {
      "cell_type": "code",
      "execution_count": 254,
      "metadata": {
        "id": "wGhUPQMR1D8V"
      },
      "outputs": [],
      "source": [
        "# среди самых популярных ответов будем выбирать ответ по решениям:\n",
        "# векторизуем решения, которые привели к частым ответам и усредним для каждого такого ответа\n",
        "# выберем тот ответ, для которого усредненных вектор оказался ближе к MEAN_EMBEDDINGS этой задачи\n",
        "\n",
        "def selection(generated_answers, generated_thoughts):\n",
        "  selected_answers = []\n",
        "  mean_vec = mean_vector(generated_thoughts)\n",
        "  for i in range(NUMBER_OF_TEST_PROBLEMS):\n",
        "    mode_dict = Most_popular_answer(generated_answers[i])\n",
        "    best_pair = (None,np.inf)\n",
        "    for key in mode_dict:\n",
        "      mean_key_vector = np.mean([sen_to_vec.encode(generated_thoughts[i][j]) for j in mode_dict[key]], axis=0)\n",
        "      dist        = np.linalg.norm(mean_vec[i] - mean_key_vector)\n",
        "      if dist < best_pair[1]:\n",
        "        best_pair = (key, dist)\n",
        "    selected_answers.append(best_pair[0])\n",
        "  return selected_answers\n",
        "\n"
      ]
    },
    {
      "cell_type": "code",
      "execution_count": 255,
      "metadata": {
        "colab": {
          "base_uri": "https://localhost:8080/"
        },
        "id": "VcZ0OqkB_DfS",
        "outputId": "1bb93d43-aece-4238-c690-2458496dc188"
      },
      "outputs": [
        {
          "name": "stderr",
          "output_type": "stream",
          "text": [
            "100%|██████████| 100/100 [01:25<00:00,  1.17it/s]\n"
          ]
        },
        {
          "data": {
            "text/plain": [
              "4"
            ]
          },
          "execution_count": 255,
          "metadata": {},
          "output_type": "execute_result"
        }
      ],
      "source": [
        "# узнаем, сколько раз not greedy ответ совпал с настоящим:\n",
        "matching(selection(GENERATED_ANSWERS, GENERATED_THOUGHTS))"
      ]
    },
    {
      "cell_type": "code",
      "execution_count": 262,
      "metadata": {
        "id": "6S-bDt_2pnyN"
      },
      "outputs": [],
      "source": [
        "# уберём из ответов None, чтобы выбирать ответ как медиану сгенерированных ответов\n",
        "def answers_cleaning(generated_answers):\n",
        "  clean_answers = []\n",
        "  for answers in generated_answers:\n",
        "    lst = [answ for answ in answers if answ != None]\n",
        "    clean_answers.append(lst)\n",
        "  return clean_answers\n"
      ]
    },
    {
      "cell_type": "code",
      "execution_count": 263,
      "metadata": {
        "colab": {
          "base_uri": "https://localhost:8080/"
        },
        "id": "RCNqHKPfkHst",
        "outputId": "a5a5f54d-5d19-4794-c3d2-7e701209d505"
      },
      "outputs": [
        {
          "data": {
            "text/plain": [
              "1"
            ]
          },
          "execution_count": 263,
          "metadata": {},
          "output_type": "execute_result"
        }
      ],
      "source": [
        "# количество совпадений медианы ответов с настоящим ответом \n",
        "median_of_answers = [statistics.median(answ) for answ in answers_cleaning(GENERATED_ANSWERS)]\n",
        "matching(median_of_answers)"
      ]
    },
    {
      "cell_type": "code",
      "execution_count": 264,
      "metadata": {
        "colab": {
          "base_uri": "https://localhost:8080/"
        },
        "id": "IVYDcKVwqenb",
        "outputId": "e37abed8-afe9-480a-9fc7-ab32149552e0"
      },
      "outputs": [
        {
          "data": {
            "text/plain": [
              "2"
            ]
          },
          "execution_count": 264,
          "metadata": {},
          "output_type": "execute_result"
        }
      ],
      "source": [
        "# естественно попробовать и среднее:\n",
        "mean_of_answers = [int(statistics.mean(answ)) for answ in answers_cleaning(GENERATED_ANSWERS)]\n",
        "\n",
        "matching(mean_of_answers)"
      ]
    },
    {
      "cell_type": "code",
      "execution_count": 265,
      "metadata": {
        "colab": {
          "base_uri": "https://localhost:8080/"
        },
        "id": "yIh5-e5N9LMe",
        "outputId": "3bea6e8a-ab9c-4542-8246-3d6c79890d19"
      },
      "outputs": [
        {
          "data": {
            "text/plain": [
              "24"
            ]
          },
          "execution_count": 265,
          "metadata": {},
          "output_type": "execute_result"
        }
      ],
      "source": [
        "# посчитаем, в скольких задачах ответ в принципе был сгенерирован при ансамблированном CoT:\n",
        "\n",
        "def containing(generated_answers):\n",
        "  return sum([1 for i in range(NUMBER_OF_TEST_PROBLEMS) if int(ANSWERS[i][0]) in generated_answers[i]])\n",
        "\n",
        "# количество задач, в которых правильный ответ хотя бы сгенерировался: \n",
        "containing(GENERATED_ANSWERS)"
      ]
    },
    {
      "cell_type": "code",
      "execution_count": 179,
      "metadata": {
        "colab": {
          "base_uri": "https://localhost:8080/"
        },
        "id": "uNJrYvrfBgV6",
        "outputId": "7de85ee4-3874-4f49-d958-2ab79b536207"
      },
      "outputs": [
        {
          "name": "stderr",
          "output_type": "stream",
          "text": [
            "100%|██████████| 100/100 [00:08<00:00, 11.37it/s]\n",
            "100%|██████████| 100/100 [01:17<00:00,  1.29it/s]\n"
          ]
        }
      ],
      "source": [
        "# векторизуем настроящие и greedy решения с помощью SBERT\n",
        "ANSWER_EMBEDDINGS = [sen_to_vec.encode(ANSWERS[i][1])      for i in range(NUMBER_OF_TEST_PROBLEMS)]\n",
        "GREEDY_EMBEDDINGS = [sen_to_vec.encode(GREEDY_THOUGHTS[i]) for i in range(NUMBER_OF_TEST_PROBLEMS)]\n",
        "\n",
        "\n",
        "# определим евклидово расстояние между вектором решения и эталонным решением\n",
        "def Distances(embeddings):\n",
        "  return [np.linalg.norm(embeddings[i] - ANSWER_EMBEDDINGS[i]) for i in range(NUMBER_OF_TEST_PROBLEMS)]\n"
      ]
    },
    {
      "cell_type": "code",
      "execution_count": 180,
      "metadata": {
        "colab": {
          "base_uri": "https://localhost:8080/",
          "height": 404
        },
        "id": "R_KbvqbYdXcf",
        "outputId": "2922cb0a-0c74-4bb9-fb3a-3b409caca322"
      },
      "outputs": [
        {
          "data": {
            "image/png": "[encoded data removed]",
            "text/plain": [
              "<Figure size 864x432 with 1 Axes>"
            ]
          },
          "metadata": {
            "needs_background": "light"
          },
          "output_type": "display_data"
        }
      ],
      "source": [
        "# визуализируем расстояния от greedy векторов до эталонных и от ансамблированных до \n",
        "# эталонных для каждой задачи\n",
        "dists1 = Distances(GREEDY_EMBEDDINGS)\n",
        "dists2 = Distances(mean_vector(GENERATED_THOUGHTS))\n",
        "\n",
        "fig = plt.figure(figsize = (12, 6))\n",
        "ax  = fig.add_subplot(111)\n",
        "\n",
        "ax.scatter(range(len(dists1)), dists1, c='purple', label='от greedy')\n",
        "ax.scatter(range(len(dists2)), dists2, c='pink',   label='от среднего по ансамблированному CoT')\n",
        "\n",
        "ax.axhline(np.mean(dists1), c='purple', linestyle='--')\n",
        "ax.axhline(np.mean(dists2), c='pink',   linestyle='--')\n",
        "\n",
        "ax.set_xlabel('Номер задачи')\n",
        "ax.set_ylabel('Расстояние')\n",
        "ax.set_title('Расстояния до эталонного решения')\n",
        "\n",
        "ax.legend()\n",
        "plt.show()"
      ]
    },
    {
      "cell_type": "markdown",
      "metadata": {
        "id": "omAxalGgJn2g"
      },
      "source": [
        "# Второй способ (случайные примеры):"
      ]
    },
    {
      "cell_type": "code",
      "execution_count": 190,
      "metadata": {
        "id": "CAemAcNnJu-_"
      },
      "outputs": [],
      "source": [
        "with open(f'/content/random_greedy.txt', 'r') as f:\n",
        "  RANDOM_GREEDY_THOUGHTS = f.read().replace('\\n', '').split(\"#\")[:-1]\n",
        "\n",
        "RANDOM_GREEDY_ANSWERS = [Answer_search(thought) for thought in RANDOM_GREEDY_THOUGHTS]\n",
        "\n",
        "RANDOM_GENERATED_THOUGHTS = []\n",
        "for i in range(NUMBER_OF_TEST_PROBLEMS):\n",
        "  with open(f'/content/{i}_random_ensemble.txt', 'r') as f:\n",
        "    lines = f.read().replace('\\n', '')\n",
        "    lines = lines.split(\"#\")[:-1]\n",
        "    for i in range(len(lines)):\n",
        "      if \"question:\" in lines[i]:\n",
        "        index = lines[i].index(\"question:\")\n",
        "        lines[i] = lines[i][:index]\n",
        "\n",
        "    RANDOM_GENERATED_THOUGHTS.append(lines)\n",
        "\n",
        "RANDOM_GENERATED_ANSWERS = []\n",
        "for thoughts in RANDOM_GENERATED_THOUGHTS:\n",
        "  RANDOM_GENERATED_ANSWERS.append([Answer_search(thought) for thought in thoughts]) "
      ]
    },
    {
      "cell_type": "code",
      "execution_count": 266,
      "metadata": {
        "colab": {
          "base_uri": "https://localhost:8080/"
        },
        "id": "0GIh7FWVKCGt",
        "outputId": "967696bc-d2e1-4a2c-aa7d-4ad6b1534308"
      },
      "outputs": [
        {
          "data": {
            "text/plain": [
              "4"
            ]
          },
          "execution_count": 266,
          "metadata": {},
          "output_type": "execute_result"
        }
      ],
      "source": [
        "# если каждый раз случайно выбираются примеры для prompt, \n",
        "# используя greedy decoding получили столько правильных ответов:\n",
        "matching(RANDOM_GREEDY_ANSWERS)"
      ]
    },
    {
      "cell_type": "code",
      "execution_count": 267,
      "metadata": {
        "colab": {
          "base_uri": "https://localhost:8080/"
        },
        "id": "Aj2Wbq9YKZmk",
        "outputId": "4be52e24-88ef-4c8b-bb92-8d772e404773"
      },
      "outputs": [
        {
          "name": "stderr",
          "output_type": "stream",
          "text": [
            "100%|██████████| 100/100 [01:16<00:00,  1.30it/s]\n"
          ]
        },
        {
          "data": {
            "text/plain": [
              "7"
            ]
          },
          "execution_count": 267,
          "metadata": {},
          "output_type": "execute_result"
        }
      ],
      "source": [
        "# для ансамблированного CoT количество совпадений:\n",
        "matching(selection(RANDOM_GENERATED_ANSWERS, RANDOM_GENERATED_THOUGHTS))"
      ]
    },
    {
      "cell_type": "code",
      "execution_count": 268,
      "metadata": {
        "colab": {
          "base_uri": "https://localhost:8080/"
        },
        "id": "WixNFtp5L78z",
        "outputId": "db78b79f-d9a5-408c-dd7c-e5b745cc5435"
      },
      "outputs": [
        {
          "data": {
            "text/plain": [
              "3"
            ]
          },
          "execution_count": 268,
          "metadata": {},
          "output_type": "execute_result"
        }
      ],
      "source": [
        "# посчитаем, сколько раз медиана ответов при такой генерации являлась правильным ответом:\n",
        "median_of_random_answers = [statistics.median(answ) for answ in answers_cleaning(RANDOM_GENERATED_ANSWERS)]\n",
        "matching(median_of_random_answers)"
      ]
    },
    {
      "cell_type": "code",
      "execution_count": 269,
      "metadata": {
        "colab": {
          "base_uri": "https://localhost:8080/"
        },
        "id": "YViZFVEVL9Fg",
        "outputId": "c9609afa-5dc4-43f2-b125-1071bbf8c009"
      },
      "outputs": [
        {
          "data": {
            "text/plain": [
              "0"
            ]
          },
          "execution_count": 269,
          "metadata": {},
          "output_type": "execute_result"
        }
      ],
      "source": [
        "# сколько раз среднее совпало с ответом:\n",
        "mean_of_random_answers = [int(statistics.mean(answ)) for answ in answers_cleaning(RANDOM_GENERATED_ANSWERS)]\n",
        "matching(mean_of_random_answers)"
      ]
    },
    {
      "cell_type": "code",
      "execution_count": 270,
      "metadata": {
        "colab": {
          "base_uri": "https://localhost:8080/"
        },
        "id": "DWlUtslxNEZJ",
        "outputId": "15d730c4-ef75-4fb3-aae7-c95d3de18c88"
      },
      "outputs": [
        {
          "data": {
            "text/plain": [
              "25"
            ]
          },
          "execution_count": 270,
          "metadata": {},
          "output_type": "execute_result"
        }
      ],
      "source": [
        "# количество задач, в которых правильный ответ был сгенерирован\n",
        "containing(RANDOM_GENERATED_ANSWERS)"
      ]
    },
    {
      "cell_type": "code",
      "execution_count": 199,
      "metadata": {
        "colab": {
          "base_uri": "https://localhost:8080/",
          "height": 422
        },
        "id": "K23OSDWNMrW5",
        "outputId": "50047428-94fc-42a1-9b05-617936c0dafa"
      },
      "outputs": [
        {
          "name": "stderr",
          "output_type": "stream",
          "text": [
            "100%|██████████| 100/100 [00:05<00:00, 19.48it/s]\n"
          ]
        },
        {
          "data": {
            "image/png": "[encoded data removed]",
            "text/plain": [
              "<Figure size 864x432 with 1 Axes>"
            ]
          },
          "metadata": {
            "needs_background": "light"
          },
          "output_type": "display_data"
        }
      ],
      "source": [
        "RANDOM_GREEDY_EMBEDDINGS = [sen_to_vec.encode(thought) for thought in RANDOM_GREEDY_THOUGHTS]\n",
        "\n",
        "\n",
        "dists1 = Distances(RANDOM_GREEDY_EMBEDDINGS)\n",
        "dists2 = Distances(mean_vector(RANDOM_GENERATED_THOUGHTS))\n",
        "\n",
        "fig = plt.figure(figsize=(12, 6))\n",
        "ax  = fig.add_subplot(111)\n",
        "\n",
        "ax.scatter(range(len(dists1)), dists1, c='purple', label='от random_greedy')\n",
        "ax.scatter(range(len(dists2)), dists2, c='pink',   label='от среднего по random ансамблированному CoT')\n",
        "\n",
        "ax.axhline(np.mean(dists1), c='purple', linestyle='--')\n",
        "ax.axhline(np.mean(dists2), c='pink',   linestyle='--')\n",
        "\n",
        "ax.set_xlabel('Номер задачи')\n",
        "ax.set_ylabel('Расстояние')\n",
        "ax.set_title('Расстояния до эталонного решения')\n",
        "\n",
        "ax.legend()\n",
        "plt.show()"
      ]
    },
    {
      "cell_type": "markdown",
      "metadata": {
        "id": "Podqt4RfNJKQ"
      },
      "source": [
        "# Третий способ (фиксированные примеры с сократовскими вопросами):"
      ]
    },
    {
      "cell_type": "code",
      "execution_count": 276,
      "metadata": {
        "id": "kYqXJZG2NA3A"
      },
      "outputs": [],
      "source": [
        "with open(f'/content/socratic_greedy.txt', 'r') as f:\n",
        "  SOCRATIC_GREEDY_THOUGHTS = f.read().replace('\\n', '').split(\"#\")[:-1]\n",
        "\n",
        "SOCRATIC_GREEDY_ANSWERS = [Answer_search(thought) for thought in SOCRATIC_GREEDY_THOUGHTS]\n",
        "\n",
        "SOCRATIC_GENERATED_THOUGHTS = []\n",
        "for i in range(NUMBER_OF_TEST_PROBLEMS):\n",
        "  with open(f'/content/{i}_socratic_ensemble.txt', 'r') as f:\n",
        "    lines = f.read().replace('\\n', '')\n",
        "    lines = lines.split(\"#\")[:-1]\n",
        "    for i in range(len(lines)):\n",
        "      if \"question:\" in lines[i]:\n",
        "        index = lines[i].index(\"question:\")\n",
        "        lines[i] = lines[i][:index]\n",
        "\n",
        "    SOCRATIC_GENERATED_THOUGHTS.append(lines)\n",
        "\n",
        "SOCRATIC_GENERATED_ANSWERS = []\n",
        "for thoughts in SOCRATIC_GENERATED_THOUGHTS:\n",
        "  SOCRATIC_GENERATED_ANSWERS.append([Answer_search(thought) for thought in thoughts]) "
      ]
    },
    {
      "cell_type": "code",
      "execution_count": 277,
      "metadata": {
        "colab": {
          "base_uri": "https://localhost:8080/"
        },
        "id": "VZN1jlnCNMhL",
        "outputId": "7246401b-fe32-488b-d397-0785ac80cb4d"
      },
      "outputs": [
        {
          "data": {
            "text/plain": [
              "6"
            ]
          },
          "execution_count": 277,
          "metadata": {},
          "output_type": "execute_result"
        }
      ],
      "source": [
        "# сколько раз greedy генерирует правильный ответ с сократовскими вопросами:\n",
        "matching(SOCRATIC_GREEDY_ANSWERS)"
      ]
    },
    {
      "cell_type": "code",
      "execution_count": 278,
      "metadata": {
        "colab": {
          "base_uri": "https://localhost:8080/"
        },
        "id": "ZWFOxPO-N5rl",
        "outputId": "09db3fb3-ec09-403e-dd39-ecb373d4c24c"
      },
      "outputs": [
        {
          "name": "stderr",
          "output_type": "stream",
          "text": [
            "100%|██████████| 100/100 [01:21<00:00,  1.23it/s]\n"
          ]
        },
        {
          "data": {
            "text/plain": [
              "5"
            ]
          },
          "execution_count": 278,
          "metadata": {},
          "output_type": "execute_result"
        }
      ],
      "source": [
        "# выбираем самые популярные ответы и сравниваем их с настоящими\n",
        "matching(selection(SOCRATIC_GENERATED_ANSWERS, SOCRATIC_GENERATED_THOUGHTS))"
      ]
    },
    {
      "cell_type": "code",
      "execution_count": 279,
      "metadata": {
        "colab": {
          "base_uri": "https://localhost:8080/"
        },
        "id": "5Ak1cCjpNj9B",
        "outputId": "10b49b89-21ed-4163-d107-1b9cde5f8e3a"
      },
      "outputs": [
        {
          "data": {
            "text/plain": [
              "2"
            ]
          },
          "execution_count": 279,
          "metadata": {},
          "output_type": "execute_result"
        }
      ],
      "source": [
        "# сколько раз медиана совпала с ответом\n",
        "median_of_random_answers = [statistics.median(answ) for answ in answers_cleaning(SOCRATIC_GENERATED_ANSWERS)]\n",
        "matching(median_of_random_answers)"
      ]
    },
    {
      "cell_type": "code",
      "execution_count": 280,
      "metadata": {
        "colab": {
          "base_uri": "https://localhost:8080/"
        },
        "id": "vElQZMMCOWT3",
        "outputId": "377ca958-86ec-4924-fbf7-ca6fe700c0b2"
      },
      "outputs": [
        {
          "data": {
            "text/plain": [
              "0"
            ]
          },
          "execution_count": 280,
          "metadata": {},
          "output_type": "execute_result"
        }
      ],
      "source": [
        "# сравнение среднего с настоящим ответом\n",
        "mean_of_random_answers = [int(statistics.mean(answ)) for answ in answers_cleaning(SOCRATIC_GENERATED_ANSWERS)]\n",
        "matching(mean_of_random_answers)"
      ]
    },
    {
      "cell_type": "code",
      "execution_count": 281,
      "metadata": {
        "colab": {
          "base_uri": "https://localhost:8080/"
        },
        "id": "oUJexk4wOVfN",
        "outputId": "9faf27d2-43f8-4c30-f400-2191b01c1291"
      },
      "outputs": [
        {
          "data": {
            "text/plain": [
              "16"
            ]
          },
          "execution_count": 281,
          "metadata": {},
          "output_type": "execute_result"
        }
      ],
      "source": [
        "# сколько раз с сократовскими вопросами были в принципе сгенерированы правильные ответы:\n",
        "containing(SOCRATIC_GENERATED_ANSWERS)"
      ]
    },
    {
      "cell_type": "code",
      "execution_count": 282,
      "metadata": {
        "colab": {
          "base_uri": "https://localhost:8080/",
          "height": 440
        },
        "id": "cEKxLS1oOo6s",
        "outputId": "845b9020-11df-4bb1-e7b2-cdd866a19da2"
      },
      "outputs": [
        {
          "name": "stderr",
          "output_type": "stream",
          "text": [
            "100%|██████████| 100/100 [00:08<00:00, 12.11it/s]\n",
            "100%|██████████| 100/100 [01:26<00:00,  1.15it/s]\n"
          ]
        },
        {
          "data": {
            "image/png": "[encoded data removed]",
            "text/plain": [
              "<Figure size 864x432 with 1 Axes>"
            ]
          },
          "metadata": {
            "needs_background": "light"
          },
          "output_type": "display_data"
        }
      ],
      "source": [
        "SOCRATIC_GREEDY_EMBEDDINGS = [sen_to_vec.encode(SOCRATIC_GREEDY_THOUGHTS[i])  for i in tqdm(range(NUMBER_OF_TEST_PROBLEMS))]\n",
        "\n",
        "\n",
        "dists1 = Distances(SOCRATIC_GREEDY_EMBEDDINGS)\n",
        "dists2 = Distances(mean_vector(SOCRATIC_GENERATED_THOUGHTS))\n",
        "\n",
        "fig = plt.figure(figsize=(12, 6))\n",
        "ax = fig.add_subplot(111)\n",
        "\n",
        "ax.scatter(range(len(dists1)), dists1, c='purple', label='от socratic_greedy')\n",
        "ax.scatter(range(len(dists2)), dists2, c='pink',   label='от среднего по socratic ансамблированному CoT')\n",
        "\n",
        "ax.axhline(np.mean(dists1), c='purple', linestyle='--')\n",
        "ax.axhline(np.mean(dists2), c='pink',   linestyle='--')\n",
        "\n",
        "ax.set_xlabel('Номер задачи')\n",
        "ax.set_ylabel('Расстояние')\n",
        "ax.set_title('Расстояния до эталонного решения')\n",
        "\n",
        "ax.legend()\n",
        "plt.show()"
      ]
    }
  ],
  "metadata": {
    "colab": {
      "provenance": []
    },
    "gpuClass": "standard",
    "kernelspec": {
      "display_name": "Python 3",
      "language": "python",
      "name": "python3"
    },
    "language_info": {
      "name": "python",
      "version": "3.10.5"
    },
    "vscode": {
      "interpreter": {
        "hash": "b460384b52104c1e5b9cf54bee46a255d22b2bef338f75ac4ad5d48196028d3c"
      }
    }
  },
  "nbformat": 4,
  "nbformat_minor": 0
}
